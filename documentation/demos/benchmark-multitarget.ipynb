{
 "cells": [
  {
   "cell_type": "code",
   "execution_count": 1,
   "metadata": {},
   "outputs": [],
   "source": [
    "import pandas as pd\n",
    "import numpy as np"
   ]
  },
  {
   "cell_type": "markdown",
   "metadata": {},
   "source": [
    "#### Generate random sequences of length 10"
   ]
  },
  {
   "cell_type": "code",
   "execution_count": 2,
   "metadata": {},
   "outputs": [],
   "source": [
    "np.random.seed(101)\n",
    "seqs = np.random.choice(10, size=(25000, 10))"
   ]
  },
  {
   "cell_type": "code",
   "execution_count": 3,
   "metadata": {},
   "outputs": [],
   "source": [
    "seqs1 = np.random.choice(6, size=(25000, 10))\n",
    "seqs2 = np.random.uniform(size=(25000, 10)) + 2.0"
   ]
  },
  {
   "cell_type": "markdown",
   "metadata": {},
   "source": [
    "#### Generate target based on the sum of fields 1-3 and 4-6, multiplied by fields 8-10. Field 7 is ignored"
   ]
  },
  {
   "cell_type": "code",
   "execution_count": 4,
   "metadata": {},
   "outputs": [],
   "source": [
    "v = np.sum(\n",
    "    ((seqs[:, :3] * seqs2[:, :3]) + (seqs[:, :3:6] * seqs2[:, 3:6]))\n",
    "    * (seqs[:, -3:] * seqs2[:, -3:]),\n",
    "    axis=1,\n",
    ")\n",
    "target = (v / (np.max(v) / 15)).astype(int)\n",
    "target[target > 9] = 9\n",
    "\n",
    "v1 = np.sum(\n",
    "    ((seqs1[:, :3] * seqs2[:, :3]) + (seqs1[:, :3:6] * seqs2[:, 3:6]))\n",
    "    * (seqs1[:, -3:] * seqs2[:, -3:]),\n",
    "    axis=1,\n",
    ")\n",
    "target1 = (v1 / (np.max(v) / 15)).astype(int)\n",
    "target1[target1 > 9] = 9\n",
    "\n",
    "target2 = list((np.array(target))/10 + np.abs(np.random.randn(len(target))) * 0.2)\n",
    "target_all = sum([[t, t1, t2] for t, t1, t2 in zip(target, target1, target2)], [])"
   ]
  },
  {
   "cell_type": "code",
   "execution_count": 5,
   "metadata": {},
   "outputs": [
    {
     "data": {
      "text/plain": [
       "2    4494\n",
       "1    4044\n",
       "3    3929\n",
       "4    3254\n",
       "5    2524\n",
       "0    2342\n",
       "6    1807\n",
       "7    1129\n",
       "9     745\n",
       "8     732\n",
       "Name: count, dtype: int64"
      ]
     },
     "execution_count": 5,
     "metadata": {},
     "output_type": "execute_result"
    }
   ],
   "source": [
    "pd.Series(target).value_counts()"
   ]
  },
  {
   "cell_type": "code",
   "execution_count": 6,
   "metadata": {},
   "outputs": [
    {
     "data": {
      "text/plain": [
       "0    12157\n",
       "1     8998\n",
       "2     3192\n",
       "3      626\n",
       "4       27\n",
       "Name: count, dtype: int64"
      ]
     },
     "execution_count": 6,
     "metadata": {},
     "output_type": "execute_result"
    }
   ],
   "source": [
    "pd.Series(target1).value_counts()"
   ]
  },
  {
   "cell_type": "markdown",
   "metadata": {},
   "source": [
    "#### Create synthetic dataset"
   ]
  },
  {
   "cell_type": "code",
   "execution_count": 7,
   "metadata": {},
   "outputs": [
    {
     "name": "stdout",
     "output_type": "stream",
     "text": [
      "[('sequenceId', 75000), ('subsequenceId', 75000), ('inputCol', 75000), ('10', 75000), ('9', 75000), ('8', 75000), ('7', 75000), ('6', 75000), ('5', 75000), ('4', 75000), ('3', 75000), ('2', 75000), ('1', 75000), ('target', 75000)]\n"
     ]
    },
    {
     "data": {
      "text/html": [
       "<div>\n",
       "<style scoped>\n",
       "    .dataframe tbody tr th:only-of-type {\n",
       "        vertical-align: middle;\n",
       "    }\n",
       "\n",
       "    .dataframe tbody tr th {\n",
       "        vertical-align: top;\n",
       "    }\n",
       "\n",
       "    .dataframe thead th {\n",
       "        text-align: right;\n",
       "    }\n",
       "</style>\n",
       "<table border=\"1\" class=\"dataframe\">\n",
       "  <thead>\n",
       "    <tr style=\"text-align: right;\">\n",
       "      <th></th>\n",
       "      <th>sequenceId</th>\n",
       "      <th>subsequenceId</th>\n",
       "      <th>inputCol</th>\n",
       "      <th>10</th>\n",
       "      <th>9</th>\n",
       "      <th>8</th>\n",
       "      <th>7</th>\n",
       "      <th>6</th>\n",
       "      <th>5</th>\n",
       "      <th>4</th>\n",
       "      <th>3</th>\n",
       "      <th>2</th>\n",
       "      <th>1</th>\n",
       "      <th>target</th>\n",
       "    </tr>\n",
       "  </thead>\n",
       "  <tbody>\n",
       "    <tr>\n",
       "      <th>0</th>\n",
       "      <td>0</td>\n",
       "      <td>0</td>\n",
       "      <td>itemId</td>\n",
       "      <td>1.000000</td>\n",
       "      <td>6.000000</td>\n",
       "      <td>7.000000</td>\n",
       "      <td>9.000000</td>\n",
       "      <td>8.000000</td>\n",
       "      <td>4.000000</td>\n",
       "      <td>8.000000</td>\n",
       "      <td>5.000000</td>\n",
       "      <td>0.000000</td>\n",
       "      <td>5.000000</td>\n",
       "      <td>1.000000</td>\n",
       "    </tr>\n",
       "    <tr>\n",
       "      <th>1</th>\n",
       "      <td>0</td>\n",
       "      <td>0</td>\n",
       "      <td>sup1</td>\n",
       "      <td>5.000000</td>\n",
       "      <td>3.000000</td>\n",
       "      <td>1.000000</td>\n",
       "      <td>3.000000</td>\n",
       "      <td>3.000000</td>\n",
       "      <td>1.000000</td>\n",
       "      <td>2.000000</td>\n",
       "      <td>4.000000</td>\n",
       "      <td>2.000000</td>\n",
       "      <td>5.000000</td>\n",
       "      <td>2.000000</td>\n",
       "    </tr>\n",
       "    <tr>\n",
       "      <th>2</th>\n",
       "      <td>0</td>\n",
       "      <td>0</td>\n",
       "      <td>sup2</td>\n",
       "      <td>2.333833</td>\n",
       "      <td>2.846748</td>\n",
       "      <td>2.728355</td>\n",
       "      <td>2.170463</td>\n",
       "      <td>2.555819</td>\n",
       "      <td>2.519502</td>\n",
       "      <td>2.820865</td>\n",
       "      <td>2.087095</td>\n",
       "      <td>2.379054</td>\n",
       "      <td>2.352205</td>\n",
       "      <td>0.432944</td>\n",
       "    </tr>\n",
       "    <tr>\n",
       "      <th>3</th>\n",
       "      <td>1</td>\n",
       "      <td>1</td>\n",
       "      <td>itemId</td>\n",
       "      <td>8.000000</td>\n",
       "      <td>1.000000</td>\n",
       "      <td>3.000000</td>\n",
       "      <td>8.000000</td>\n",
       "      <td>3.000000</td>\n",
       "      <td>3.000000</td>\n",
       "      <td>2.000000</td>\n",
       "      <td>8.000000</td>\n",
       "      <td>9.000000</td>\n",
       "      <td>3.000000</td>\n",
       "      <td>7.000000</td>\n",
       "    </tr>\n",
       "    <tr>\n",
       "      <th>4</th>\n",
       "      <td>1</td>\n",
       "      <td>1</td>\n",
       "      <td>sup1</td>\n",
       "      <td>0.000000</td>\n",
       "      <td>0.000000</td>\n",
       "      <td>5.000000</td>\n",
       "      <td>5.000000</td>\n",
       "      <td>4.000000</td>\n",
       "      <td>3.000000</td>\n",
       "      <td>2.000000</td>\n",
       "      <td>5.000000</td>\n",
       "      <td>3.000000</td>\n",
       "      <td>4.000000</td>\n",
       "      <td>0.000000</td>\n",
       "    </tr>\n",
       "    <tr>\n",
       "      <th>5</th>\n",
       "      <td>1</td>\n",
       "      <td>1</td>\n",
       "      <td>sup2</td>\n",
       "      <td>2.714754</td>\n",
       "      <td>2.512596</td>\n",
       "      <td>2.497974</td>\n",
       "      <td>2.300398</td>\n",
       "      <td>2.256946</td>\n",
       "      <td>2.251153</td>\n",
       "      <td>2.909222</td>\n",
       "      <td>2.845747</td>\n",
       "      <td>2.374142</td>\n",
       "      <td>2.665901</td>\n",
       "      <td>0.758255</td>\n",
       "    </tr>\n",
       "    <tr>\n",
       "      <th>6</th>\n",
       "      <td>2</td>\n",
       "      <td>2</td>\n",
       "      <td>itemId</td>\n",
       "      <td>7.000000</td>\n",
       "      <td>0.000000</td>\n",
       "      <td>9.000000</td>\n",
       "      <td>7.000000</td>\n",
       "      <td>9.000000</td>\n",
       "      <td>8.000000</td>\n",
       "      <td>4.000000</td>\n",
       "      <td>3.000000</td>\n",
       "      <td>3.000000</td>\n",
       "      <td>7.000000</td>\n",
       "      <td>5.000000</td>\n",
       "    </tr>\n",
       "    <tr>\n",
       "      <th>7</th>\n",
       "      <td>2</td>\n",
       "      <td>2</td>\n",
       "      <td>sup1</td>\n",
       "      <td>2.000000</td>\n",
       "      <td>4.000000</td>\n",
       "      <td>2.000000</td>\n",
       "      <td>1.000000</td>\n",
       "      <td>2.000000</td>\n",
       "      <td>1.000000</td>\n",
       "      <td>4.000000</td>\n",
       "      <td>0.000000</td>\n",
       "      <td>4.000000</td>\n",
       "      <td>2.000000</td>\n",
       "      <td>0.000000</td>\n",
       "    </tr>\n",
       "    <tr>\n",
       "      <th>8</th>\n",
       "      <td>2</td>\n",
       "      <td>2</td>\n",
       "      <td>sup2</td>\n",
       "      <td>2.514265</td>\n",
       "      <td>2.546521</td>\n",
       "      <td>2.567427</td>\n",
       "      <td>2.892879</td>\n",
       "      <td>2.410716</td>\n",
       "      <td>2.304859</td>\n",
       "      <td>2.111743</td>\n",
       "      <td>2.998688</td>\n",
       "      <td>2.349367</td>\n",
       "      <td>2.621257</td>\n",
       "      <td>0.570808</td>\n",
       "    </tr>\n",
       "    <tr>\n",
       "      <th>9</th>\n",
       "      <td>3</td>\n",
       "      <td>3</td>\n",
       "      <td>itemId</td>\n",
       "      <td>4.000000</td>\n",
       "      <td>8.000000</td>\n",
       "      <td>7.000000</td>\n",
       "      <td>6.000000</td>\n",
       "      <td>9.000000</td>\n",
       "      <td>4.000000</td>\n",
       "      <td>2.000000</td>\n",
       "      <td>7.000000</td>\n",
       "      <td>7.000000</td>\n",
       "      <td>7.000000</td>\n",
       "      <td>7.000000</td>\n",
       "    </tr>\n",
       "    <tr>\n",
       "      <th>10</th>\n",
       "      <td>3</td>\n",
       "      <td>3</td>\n",
       "      <td>sup1</td>\n",
       "      <td>1.000000</td>\n",
       "      <td>0.000000</td>\n",
       "      <td>2.000000</td>\n",
       "      <td>1.000000</td>\n",
       "      <td>1.000000</td>\n",
       "      <td>0.000000</td>\n",
       "      <td>0.000000</td>\n",
       "      <td>5.000000</td>\n",
       "      <td>5.000000</td>\n",
       "      <td>3.000000</td>\n",
       "      <td>0.000000</td>\n",
       "    </tr>\n",
       "    <tr>\n",
       "      <th>11</th>\n",
       "      <td>3</td>\n",
       "      <td>3</td>\n",
       "      <td>sup2</td>\n",
       "      <td>2.923335</td>\n",
       "      <td>2.834302</td>\n",
       "      <td>2.734465</td>\n",
       "      <td>2.134866</td>\n",
       "      <td>2.813999</td>\n",
       "      <td>2.681293</td>\n",
       "      <td>2.712186</td>\n",
       "      <td>2.459435</td>\n",
       "      <td>2.190134</td>\n",
       "      <td>2.856271</td>\n",
       "      <td>0.784124</td>\n",
       "    </tr>\n",
       "    <tr>\n",
       "      <th>12</th>\n",
       "      <td>4</td>\n",
       "      <td>4</td>\n",
       "      <td>itemId</td>\n",
       "      <td>0.000000</td>\n",
       "      <td>4.000000</td>\n",
       "      <td>1.000000</td>\n",
       "      <td>8.000000</td>\n",
       "      <td>3.000000</td>\n",
       "      <td>1.000000</td>\n",
       "      <td>8.000000</td>\n",
       "      <td>4.000000</td>\n",
       "      <td>3.000000</td>\n",
       "      <td>2.000000</td>\n",
       "      <td>0.000000</td>\n",
       "    </tr>\n",
       "    <tr>\n",
       "      <th>13</th>\n",
       "      <td>4</td>\n",
       "      <td>4</td>\n",
       "      <td>sup1</td>\n",
       "      <td>4.000000</td>\n",
       "      <td>2.000000</td>\n",
       "      <td>3.000000</td>\n",
       "      <td>0.000000</td>\n",
       "      <td>3.000000</td>\n",
       "      <td>1.000000</td>\n",
       "      <td>2.000000</td>\n",
       "      <td>4.000000</td>\n",
       "      <td>0.000000</td>\n",
       "      <td>1.000000</td>\n",
       "      <td>0.000000</td>\n",
       "    </tr>\n",
       "    <tr>\n",
       "      <th>14</th>\n",
       "      <td>4</td>\n",
       "      <td>4</td>\n",
       "      <td>sup2</td>\n",
       "      <td>2.444321</td>\n",
       "      <td>2.424037</td>\n",
       "      <td>2.226021</td>\n",
       "      <td>2.188549</td>\n",
       "      <td>2.292421</td>\n",
       "      <td>2.700114</td>\n",
       "      <td>2.051887</td>\n",
       "      <td>2.154758</td>\n",
       "      <td>2.101373</td>\n",
       "      <td>2.170498</td>\n",
       "      <td>0.105342</td>\n",
       "    </tr>\n",
       "    <tr>\n",
       "      <th>15</th>\n",
       "      <td>5</td>\n",
       "      <td>5</td>\n",
       "      <td>itemId</td>\n",
       "      <td>3.000000</td>\n",
       "      <td>3.000000</td>\n",
       "      <td>7.000000</td>\n",
       "      <td>4.000000</td>\n",
       "      <td>8.000000</td>\n",
       "      <td>6.000000</td>\n",
       "      <td>3.000000</td>\n",
       "      <td>7.000000</td>\n",
       "      <td>6.000000</td>\n",
       "      <td>5.000000</td>\n",
       "      <td>3.000000</td>\n",
       "    </tr>\n",
       "    <tr>\n",
       "      <th>16</th>\n",
       "      <td>5</td>\n",
       "      <td>5</td>\n",
       "      <td>sup1</td>\n",
       "      <td>0.000000</td>\n",
       "      <td>5.000000</td>\n",
       "      <td>0.000000</td>\n",
       "      <td>4.000000</td>\n",
       "      <td>3.000000</td>\n",
       "      <td>4.000000</td>\n",
       "      <td>5.000000</td>\n",
       "      <td>5.000000</td>\n",
       "      <td>2.000000</td>\n",
       "      <td>4.000000</td>\n",
       "      <td>0.000000</td>\n",
       "    </tr>\n",
       "    <tr>\n",
       "      <th>17</th>\n",
       "      <td>5</td>\n",
       "      <td>5</td>\n",
       "      <td>sup2</td>\n",
       "      <td>2.513013</td>\n",
       "      <td>2.226937</td>\n",
       "      <td>2.838725</td>\n",
       "      <td>2.345539</td>\n",
       "      <td>2.200644</td>\n",
       "      <td>2.632579</td>\n",
       "      <td>2.967235</td>\n",
       "      <td>2.004431</td>\n",
       "      <td>2.315875</td>\n",
       "      <td>2.868740</td>\n",
       "      <td>0.368400</td>\n",
       "    </tr>\n",
       "    <tr>\n",
       "      <th>18</th>\n",
       "      <td>6</td>\n",
       "      <td>6</td>\n",
       "      <td>itemId</td>\n",
       "      <td>6.000000</td>\n",
       "      <td>9.000000</td>\n",
       "      <td>2.000000</td>\n",
       "      <td>2.000000</td>\n",
       "      <td>1.000000</td>\n",
       "      <td>3.000000</td>\n",
       "      <td>3.000000</td>\n",
       "      <td>3.000000</td>\n",
       "      <td>4.000000</td>\n",
       "      <td>5.000000</td>\n",
       "      <td>3.000000</td>\n",
       "    </tr>\n",
       "    <tr>\n",
       "      <th>19</th>\n",
       "      <td>6</td>\n",
       "      <td>6</td>\n",
       "      <td>sup1</td>\n",
       "      <td>0.000000</td>\n",
       "      <td>3.000000</td>\n",
       "      <td>2.000000</td>\n",
       "      <td>0.000000</td>\n",
       "      <td>5.000000</td>\n",
       "      <td>4.000000</td>\n",
       "      <td>0.000000</td>\n",
       "      <td>5.000000</td>\n",
       "      <td>1.000000</td>\n",
       "      <td>2.000000</td>\n",
       "      <td>0.000000</td>\n",
       "    </tr>\n",
       "  </tbody>\n",
       "</table>\n",
       "</div>"
      ],
      "text/plain": [
       "    sequenceId  subsequenceId inputCol        10         9         8  \\\n",
       "0            0              0   itemId  1.000000  6.000000  7.000000   \n",
       "1            0              0     sup1  5.000000  3.000000  1.000000   \n",
       "2            0              0     sup2  2.333833  2.846748  2.728355   \n",
       "3            1              1   itemId  8.000000  1.000000  3.000000   \n",
       "4            1              1     sup1  0.000000  0.000000  5.000000   \n",
       "5            1              1     sup2  2.714754  2.512596  2.497974   \n",
       "6            2              2   itemId  7.000000  0.000000  9.000000   \n",
       "7            2              2     sup1  2.000000  4.000000  2.000000   \n",
       "8            2              2     sup2  2.514265  2.546521  2.567427   \n",
       "9            3              3   itemId  4.000000  8.000000  7.000000   \n",
       "10           3              3     sup1  1.000000  0.000000  2.000000   \n",
       "11           3              3     sup2  2.923335  2.834302  2.734465   \n",
       "12           4              4   itemId  0.000000  4.000000  1.000000   \n",
       "13           4              4     sup1  4.000000  2.000000  3.000000   \n",
       "14           4              4     sup2  2.444321  2.424037  2.226021   \n",
       "15           5              5   itemId  3.000000  3.000000  7.000000   \n",
       "16           5              5     sup1  0.000000  5.000000  0.000000   \n",
       "17           5              5     sup2  2.513013  2.226937  2.838725   \n",
       "18           6              6   itemId  6.000000  9.000000  2.000000   \n",
       "19           6              6     sup1  0.000000  3.000000  2.000000   \n",
       "\n",
       "           7         6         5         4         3         2         1  \\\n",
       "0   9.000000  8.000000  4.000000  8.000000  5.000000  0.000000  5.000000   \n",
       "1   3.000000  3.000000  1.000000  2.000000  4.000000  2.000000  5.000000   \n",
       "2   2.170463  2.555819  2.519502  2.820865  2.087095  2.379054  2.352205   \n",
       "3   8.000000  3.000000  3.000000  2.000000  8.000000  9.000000  3.000000   \n",
       "4   5.000000  4.000000  3.000000  2.000000  5.000000  3.000000  4.000000   \n",
       "5   2.300398  2.256946  2.251153  2.909222  2.845747  2.374142  2.665901   \n",
       "6   7.000000  9.000000  8.000000  4.000000  3.000000  3.000000  7.000000   \n",
       "7   1.000000  2.000000  1.000000  4.000000  0.000000  4.000000  2.000000   \n",
       "8   2.892879  2.410716  2.304859  2.111743  2.998688  2.349367  2.621257   \n",
       "9   6.000000  9.000000  4.000000  2.000000  7.000000  7.000000  7.000000   \n",
       "10  1.000000  1.000000  0.000000  0.000000  5.000000  5.000000  3.000000   \n",
       "11  2.134866  2.813999  2.681293  2.712186  2.459435  2.190134  2.856271   \n",
       "12  8.000000  3.000000  1.000000  8.000000  4.000000  3.000000  2.000000   \n",
       "13  0.000000  3.000000  1.000000  2.000000  4.000000  0.000000  1.000000   \n",
       "14  2.188549  2.292421  2.700114  2.051887  2.154758  2.101373  2.170498   \n",
       "15  4.000000  8.000000  6.000000  3.000000  7.000000  6.000000  5.000000   \n",
       "16  4.000000  3.000000  4.000000  5.000000  5.000000  2.000000  4.000000   \n",
       "17  2.345539  2.200644  2.632579  2.967235  2.004431  2.315875  2.868740   \n",
       "18  2.000000  1.000000  3.000000  3.000000  3.000000  4.000000  5.000000   \n",
       "19  0.000000  5.000000  4.000000  0.000000  5.000000  1.000000  2.000000   \n",
       "\n",
       "      target  \n",
       "0   1.000000  \n",
       "1   2.000000  \n",
       "2   0.432944  \n",
       "3   7.000000  \n",
       "4   0.000000  \n",
       "5   0.758255  \n",
       "6   5.000000  \n",
       "7   0.000000  \n",
       "8   0.570808  \n",
       "9   7.000000  \n",
       "10  0.000000  \n",
       "11  0.784124  \n",
       "12  0.000000  \n",
       "13  0.000000  \n",
       "14  0.105342  \n",
       "15  3.000000  \n",
       "16  0.000000  \n",
       "17  0.368400  \n",
       "18  3.000000  \n",
       "19  0.000000  "
      ]
     },
     "execution_count": 7,
     "metadata": {},
     "output_type": "execute_result"
    }
   ],
   "source": [
    "data_dict = {\n",
    "    \"sequenceId\": np.repeat(np.arange(25000), 3),\n",
    "    \"subsequenceId\": np.repeat(np.arange(25000), 3),\n",
    "    \"inputCol\": [\"itemId\", \"sup1\", \"sup2\"] * 25000,\n",
    "}\n",
    "for i in range(10):\n",
    "    data_dict[str(10 - i)] = [\n",
    "        x for y in list(zip(list(seqs[:, i]), list(seqs1[:, i]), list(seqs2[:, i]))) for x in y\n",
    "    ]\n",
    "\n",
    "data_dict[\"target\"] = target_all\n",
    "print([(k, len(v)) for k, v in data_dict.items()])\n",
    "data = pd.DataFrame(data_dict)\n",
    "data.head(20)"
   ]
  },
  {
   "cell_type": "markdown",
   "metadata": {},
   "source": [
    "#### Write train and test data to separate files"
   ]
  },
  {
   "cell_type": "code",
   "execution_count": 8,
   "metadata": {},
   "outputs": [
    {
     "name": "stdout",
     "output_type": "stream",
     "text": [
      "(75000, 14)\n"
     ]
    }
   ],
   "source": [
    "print(data.shape)\n",
    "project_path = \"/Users/leonluithlen/projects/test-sequifier\"\n",
    "data.iloc[:60000, :].to_csv(\n",
    "    f\"{project_path}/train_data.csv\", sep=\",\", decimal=\".\", index=None\n",
    ")\n",
    "data.iloc[60000:, :].to_csv(\n",
    "    f\"{project_path}/test_data.csv\", sep=\",\", decimal=\".\", index=None\n",
    ")"
   ]
  },
  {
   "cell_type": "markdown",
   "metadata": {},
   "source": [
    "#### Train a model on train data using the sequifier cli and infer on test data"
   ]
  },
  {
   "cell_type": "code",
   "execution_count": 9,
   "metadata": {},
   "outputs": [
    {
     "name": "stdout",
     "output_type": "stream",
     "text": [
      "sequifier --train --on-unprocessed --config-path=/Users/leonluithlen/projects/test-sequifier/configs/train.yaml\n"
     ]
    }
   ],
   "source": [
    "import os\n",
    "\n",
    "command = f\"sequifier --train --on-unprocessed --config-path={project_path}/configs/train.yaml\"\n",
    "print(command)"
   ]
  },
  {
   "cell_type": "code",
   "execution_count": 10,
   "metadata": {},
   "outputs": [
    {
     "name": "stdout",
     "output_type": "stream",
     "text": [
      "sequifier --infer --on-unprocessed --config-path=/Users/leonluithlen/projects/test-sequifier/configs/infer.yaml\n"
     ]
    }
   ],
   "source": [
    "command = f\"sequifier --infer --on-unprocessed --config-path={project_path}/configs/infer.yaml\"\n",
    "print(command)"
   ]
  },
  {
   "cell_type": "markdown",
   "metadata": {},
   "source": [
    "#### Load predictions from inference with two input columns and evaluate test set accuracy"
   ]
  },
  {
   "cell_type": "code",
   "execution_count": 11,
   "metadata": {},
   "outputs": [
    {
     "data": {
      "text/plain": [
       "(75000, 14)"
      ]
     },
     "execution_count": 11,
     "metadata": {},
     "output_type": "execute_result"
    }
   ],
   "source": [
    "data.shape"
   ]
  },
  {
   "cell_type": "code",
   "execution_count": 25,
   "metadata": {},
   "outputs": [],
   "source": [
    "def asses_predictions(project_path, path, target, start, step, categorical):\n",
    "    preds = pd.read_csv(\n",
    "        f\"{project_path}/{path}\"\n",
    "    )\n",
    "    target_array = np.array(list(target)[start::step])\n",
    "    preds_array = preds['model_output'].values\n",
    "    if categorical:\n",
    "        print(f\"mean precision: {np.mean(target_array == preds_array )}\")\n",
    "    else:\n",
    "        print(f\"MSE: {(np.mean(((target_array - preds_array) ** 2)))}\")"
   ]
  },
  {
   "cell_type": "code",
   "execution_count": 29,
   "metadata": {},
   "outputs": [
    {
     "name": "stdout",
     "output_type": "stream",
     "text": [
      "mean precision: 0.1624\n",
      "mean precision: 0.4976\n",
      "MSE: 0.07580018095270716\n"
     ]
    }
   ],
   "source": [
    "asses_predictions(project_path, \"outputs/predictions/sequifier-multitarget-best-1_itemId-predictions.csv\", target_all, 60000, 3, True)\n",
    "asses_predictions(project_path, \"outputs/predictions/sequifier-multitarget-best-1_sup1-predictions.csv\", target_all, 60001, 3, True)\n",
    "asses_predictions(project_path, \"outputs/predictions/sequifier-multitarget-best-1_sup2-predictions.csv\", target_all, 60002, 3, False)"
   ]
  },
  {
   "cell_type": "code",
   "execution_count": 27,
   "metadata": {},
   "outputs": [
    {
     "name": "stdout",
     "output_type": "stream",
     "text": [
      "mean precision: 0.6538\n",
      "mean precision: 0.8394\n",
      "MSE: 0.01970423774336012\n"
     ]
    }
   ],
   "source": [
    "asses_predictions(project_path, \"outputs/predictions/sequifier-multitarget-best-10_itemId-predictions.csv\", target_all, 60000, 3, True)\n",
    "asses_predictions(project_path, \"outputs/predictions/sequifier-multitarget-best-10_sup1-predictions.csv\", target_all, 60001, 3, True)\n",
    "asses_predictions(project_path, \"outputs/predictions/sequifier-multitarget-best-10_sup2-predictions.csv\", target_all, 60002, 3, False)"
   ]
  },
  {
   "cell_type": "code",
   "execution_count": 28,
   "metadata": {},
   "outputs": [
    {
     "name": "stdout",
     "output_type": "stream",
     "text": [
      "mean precision: 0.6884\n",
      "mean precision: 0.864\n",
      "MSE: 0.017207961029796284\n"
     ]
    }
   ],
   "source": [
    "asses_predictions(project_path, \"outputs/predictions/sequifier-multitarget-best-50_itemId-predictions.csv\", target_all, 60000, 3, True)\n",
    "asses_predictions(project_path, \"outputs/predictions/sequifier-multitarget-best-50_sup1-predictions.csv\", target_all, 60001, 3, True)\n",
    "asses_predictions(project_path, \"outputs/predictions/sequifier-multitarget-best-50_sup2-predictions.csv\", target_all, 60002, 3, False)"
   ]
  }
 ],
 "metadata": {
  "kernelspec": {
   "display_name": "dev",
   "language": "python",
   "name": "python3"
  },
  "language_info": {
   "codemirror_mode": {
    "name": "ipython",
    "version": 3
   },
   "file_extension": ".py",
   "mimetype": "text/x-python",
   "name": "python",
   "nbconvert_exporter": "python",
   "pygments_lexer": "ipython3",
   "version": "3.11.8"
  }
 },
 "nbformat": 4,
 "nbformat_minor": 2
}
